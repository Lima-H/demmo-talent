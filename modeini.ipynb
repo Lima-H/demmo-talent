{
 "cells": [
  {
   "cell_type": "code",
   "execution_count": 1,
   "id": "8ed5bb84",
   "metadata": {},
   "outputs": [],
   "source": [
    "import os\n",
    "from pathlib import Path\n",
    "from dotenv import load_dotenv\n",
    "\n",
    "#dotenv_path = Path(__file__).resolve().parent / '.env'  #Não funciona em notebook\n",
    "load_dotenv(\"../.env\")\n",
    "api_key = os.getenv(\"ATF-image\")"
   ]
  },
  {
   "cell_type": "code",
   "execution_count": 2,
   "id": "5d5565b9",
   "metadata": {},
   "outputs": [],
   "source": [
    "import re\n",
    "from langchain_openai import ChatOpenAI\n",
    "from langchain_core.messages import HumanMessage, SystemMessage\n",
    "import pandas as pd\n",
    "import io"
   ]
  },
  {
   "cell_type": "code",
   "execution_count": 3,
   "id": "7894f50c",
   "metadata": {},
   "outputs": [],
   "source": [
    "def link_drive_direto(link: str) -> str:\n",
    "    \"\"\"\n",
    "    Recebe um link de compartilhamento do Google Drive e retorna o link direto para a imagem.\n",
    "    \"\"\"\n",
    "    match = re.search(r'/d/([a-zA-Z0-9_-]+)', link)\n",
    "    if match:\n",
    "        file_id = match.group(1)\n",
    "        return f\"https://drive.google.com/uc?export=view&id={file_id}\"\n",
    "    else:\n",
    "        return link  # Se não for do Google Drive, retorna o link original"
   ]
  },
  {
   "cell_type": "code",
   "execution_count": 4,
   "id": "e319f0f8",
   "metadata": {},
   "outputs": [],
   "source": [
    "page1_link = \"https://drive.google.com/file/d/1tO4VIdkF8gcVRmJQ-7-pzECJycoMQsd_/view?usp=sharing\"\n",
    "page2_link = \"https://drive.google.com/file/d/1ASZjgPIjmjVtPtVNpsj3wOO_KXpb6E3_/view?usp=sharing\" #140KB  #Deu 2541 tokens entrada e 98 tokens saida\n",
    "\n",
    "page1 = link_drive_direto(page1_link)\n",
    "page2 = link_drive_direto(page2_link)"
   ]
  },
  {
   "cell_type": "code",
   "execution_count": 5,
   "id": "96f1850b",
   "metadata": {},
   "outputs": [],
   "source": [
    "llm = ChatOpenAI(\n",
    "    api_key=api_key,\n",
    "    model=\"gpt-4.1-mini-2025-04-14\", #gpt-4.1-mini-2025-04-14         #gpt-4.1-2025-04-14      #gpt-4o-2024-08-06   #o4-mini-2025-04-16\n",
    "   # temperature=0,\n",
    ")\n"
   ]
  },
  {
   "cell_type": "code",
   "execution_count": null,
   "id": "d7b5268e",
   "metadata": {},
   "outputs": [],
   "source": [
    "prompt = \"\"\"\n",
    "Você receberá imagens de um extrato de uma conta bancária, onde os débitos podem ser representados pela cor vermelha, por um sinal de menos, pela letra 'D', ou por algum outro sinal, enquanto que os créditos podem ser representados pela cor azul, por um sinal de +, pela letra 'C', ou por algum outro sinal.\n",
    "Geralmente os dados estão estruturados, e seguem a forma de uma tabela. Entenda qual coluna tem as informações desajadas. Por exemplo: Pode receber uma imagem que tem uma coluna com nome valor e outra com nome saldo, você não deve considerar os valores de saldo nas sua operações. \n",
    "Retorne um JSON com uma lista dos valores dos débitos e outra com os valores dos créditos das movimentações financeiras desta conta. Desconsidere os dados de saldo bancário, considerando apenas as movimentações.\n",
    "1.Retorne um o JSON puro, sem explicações, no seguinte formato:\n",
    "{\n",
    "    \"debito\": [...],\n",
    "    \"credito\": [...]\n",
    "}\n",
    "\n",
    "2. Retorne um segundo json contendo as informações da origem das transferências. Exemplo:\n",
    "Se a Maria Duarte recebeu 3 transferências pix nos valores de: 120, 110 e 20. O somatório deve estar no segundo Json:\n",
    "{\n",
    "    Transferência Pix, Maria Duarte (Crédito): 250\n",
    "}\n",
    "\"\"\""
   ]
  },
  {
   "cell_type": "code",
   "execution_count": 6,
   "id": "4da28d77",
   "metadata": {},
   "outputs": [],
   "source": [
    "prompt = \"\"\"\n",
    "Você receberá imagens de um extrato de uma conta bancária, onde os débitos podem ser representados pela cor vermelha, por um sinal de menos, pela letra 'D', ou por algum outro sinal, enquanto que os créditos podem ser representados pela cor azul, por um sinal de +, pela letra 'C', ou por algum outro sinal.\n",
    "Geralmente os dados estão estruturados, e seguem a forma de uma tabela. Entenda qual coluna tem as informações desajadas. Por exemplo: Pode receber uma imagem que tem uma coluna com nome valor e outra com nome saldo, você não deve considerar os valores de saldo nas suas operações. \n",
    "Os valores dos débitos e outra com os valores dos créditos das movimentações financeiras desta conta. Desconsidere os dados de saldo bancário, considerando apenas as movimentações.\n",
    "1. O formato deve ser csv do tipo:    \n",
    "\n",
    "tipo,valor,origem, data\n",
    "debito,22.97,PIX QRS IFOOD.COM A27/03,28/03/2025\n",
    "debito,25.11,PIX QRS SHPP BRASIL26/03,04/05/2025\n",
    "credito,12.19,DEV PIX SHPP BRASIL28/03,05/05/2025\n",
    "\n",
    "Caso não encontre algum campo deixe vazio;\n",
    "*IMPORTANTE*: Considere apenas as movimentações financeiras. Não inclua dados de saldo bancário. \n",
    "Em alguns tipo de extrato, pode ser que tenha o \"SALDO DO DIA\" na coluna de movimentações, você NÃO DEVE colocar essa linha no csv.\n",
    "\n",
    "\"\"\""
   ]
  },
  {
   "cell_type": "code",
   "execution_count": 7,
   "id": "140d3322",
   "metadata": {},
   "outputs": [],
   "source": [
    "messages = [\n",
    "    SystemMessage(content= prompt),\n",
    "    HumanMessage(\n",
    "        content=[{\"type\": \"image_url\", \"image_url\": {\"url\": page1}}        ]\n",
    "    )\n",
    "]"
   ]
  },
  {
   "cell_type": "code",
   "execution_count": 8,
   "id": "b133e39b",
   "metadata": {},
   "outputs": [],
   "source": [
    "response = llm.invoke(messages)"
   ]
  },
  {
   "cell_type": "code",
   "execution_count": 9,
   "id": "753ddf79",
   "metadata": {},
   "outputs": [
    {
     "name": "stdout",
     "output_type": "stream",
     "text": [
      "content='tipo,valor,origem,data\\ndebito,663.80,CHEQUE AVULSO DOC.: 000.016,03/10/2025\\ncredito,11000.00,CRÉD.TRANSF.POU.INT 4390 - 627130399 ÉRICO FANTINEL DE BORTOLI DOC.: 9645166,14/10/2025\\ndebito,9.68,PIX EMIT.OUTRA IF Pagamento Pix 79.863.890 0004-68 DOC.: Pix,14/10/2025\\ncredito,9.68,EST.PIX EMIT.OUT.IF Estorno Pix 79.863.890/0004-68 DOC.: Pix,14/10/2025\\ndebito,5000.00,PIX EMIT.OUTRA IF Pagamento Pix ***.071.779-** DOC.: Pix,14/10/2025\\ndebito,543.00,PIX EMIT.OUTRA IF Pagamento Pix 42.496.258 0001-70 DOC.: Pix,14/10/2025\\ndebito,110.00,PIX EMIT.OUTRA IF Pagamento Pix 14.029.801 0001-94 DOC.: Pix,14/10/2025\\ndebito,366.00,PIX EMIT.OUTRA IF Pagamento Pix ***.718.259-** DOC.: Pix,14/10/2025\\ndebito,920.00,PIX EMIT.OUTRA IF Pagamento Pix ***.071.779-** DOC.: Pix,14/10/2025\\ndebito,55.90,DEB PACOTE SERVIÇOS DOC.: 129,14/10/2025\\ndebito,980.00,PIX EMIT.OUTRA IF Pagamento Pix 42.496.258 0001-70 DOC.: Pix,15/10/2025\\ndebito,27.50,PIX EMIT.OUTRA IF Pagamento Pix,15/10/2025' additional_kwargs={'refusal': None} response_metadata={'token_usage': {'completion_tokens': 427, 'prompt_tokens': 2724, 'total_tokens': 3151, 'completion_tokens_details': {'accepted_prediction_tokens': 0, 'audio_tokens': 0, 'reasoning_tokens': 0, 'rejected_prediction_tokens': 0}, 'prompt_tokens_details': {'audio_tokens': 0, 'cached_tokens': 0}}, 'model_name': 'gpt-4.1-mini-2025-04-14', 'system_fingerprint': 'fp_658b958c37', 'id': 'chatcmpl-Bmutrz8LTh0LyBo6bt4GdkiSZNS9b', 'service_tier': 'default', 'finish_reason': 'stop', 'logprobs': None} id='run--5d9c4d9f-6768-40c3-9a51-222cfc8e3d16-0' usage_metadata={'input_tokens': 2724, 'output_tokens': 427, 'total_tokens': 3151, 'input_token_details': {'audio': 0, 'cache_read': 0}, 'output_token_details': {'audio': 0, 'reasoning': 0}}\n"
     ]
    }
   ],
   "source": [
    "print(response)"
   ]
  },
  {
   "cell_type": "code",
   "execution_count": 11,
   "id": "9eda0b61",
   "metadata": {},
   "outputs": [
    {
     "data": {
      "text/plain": [
       "427"
      ]
     },
     "execution_count": 11,
     "metadata": {},
     "output_type": "execute_result"
    }
   ],
   "source": [
    "response.usage_metadata['output_tokens']"
   ]
  },
  {
   "cell_type": "code",
   "execution_count": 48,
   "id": "62024bfa",
   "metadata": {},
   "outputs": [],
   "source": [
    "extrato_csv = response.content\n",
    "df = pd.read_csv(io.StringIO(extrato_csv))"
   ]
  },
  {
   "cell_type": "code",
   "execution_count": 61,
   "id": "5b40d0eb",
   "metadata": {},
   "outputs": [
    {
     "data": {
      "text/plain": [
       "array(['CHEQUE AVULSO DOC.: 000.016',\n",
       "       'CRÉD.TRANSF.POU.INT 4390 - 627130399 ÉRICO FANTINEL DE BORTOLI DOC.: 9645166',\n",
       "       'PIX EMIT.OUTRA IF Pagamento Pix 79.863.890 0004-68 DOC.: Pix',\n",
       "       'EST.PIX EMIT.OUT.IF Estorno Pix 79.863.890/0004-68 DOC.: Pix',\n",
       "       'PIX EMIT.OUTRA IF Pagamento Pix ***.071.779-** DOC.: Pix',\n",
       "       'PIX EMIT.OUTRA IF Pagamento Pix 42.496.258 0001-70 DOC.: Pix',\n",
       "       'PIX EMIT.OUTRA IF Pagamento Pix 14.029.801 0001-94 DOC.: Pix',\n",
       "       'PIX EMIT.OUTRA IF Pagamento Pix ***.718.259-** DOC.: Pix',\n",
       "       'DEB PACOTE SERVIÇOS DOC.: 129', 'PIX EMIT.OUTRA IF Pagamento Pix'],\n",
       "      dtype=object)"
      ]
     },
     "execution_count": 61,
     "metadata": {},
     "output_type": "execute_result"
    }
   ],
   "source": [
    "df['origem'].unique()"
   ]
  },
  {
   "cell_type": "code",
   "execution_count": null,
   "id": "d022dfdb",
   "metadata": {},
   "outputs": [],
   "source": [
    "tota_credito = df[df['tipo'] == 'credito']['valor'].sum()\n",
    "total_debito = df[df['tipo'] == 'debito']['valor'].sum()\n",
    "total_liquido = tota_credito - total_debito"
   ]
  }
 ],
 "metadata": {
  "kernelspec": {
   "display_name": ".venv",
   "language": "python",
   "name": "python3"
  },
  "language_info": {
   "codemirror_mode": {
    "name": "ipython",
    "version": 3
   },
   "file_extension": ".py",
   "mimetype": "text/x-python",
   "name": "python",
   "nbconvert_exporter": "python",
   "pygments_lexer": "ipython3",
   "version": "3.9.13"
  }
 },
 "nbformat": 4,
 "nbformat_minor": 5
}
